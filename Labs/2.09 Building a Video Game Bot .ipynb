{
 "cells": [
  {
   "cell_type": "markdown",
   "metadata": {},
   "source": [
    "# Building a Video Game Bot using OpenAI Universe"
   ]
  },
  {
   "cell_type": "markdown",
   "metadata": {
    "collapsed": true
   },
   "source": [
    "Let us learn how to build a video game bot which plays car racing game. Our objective is\n",
    "that car has to move forward without getting stuck by any obstacles and hitting other cars."
   ]
  },
  {
   "cell_type": "code",
   "execution_count": 5,
   "metadata": {},
   "outputs": [
    {
     "name": "stdout",
     "output_type": "stream",
     "text": [
      "Requirement already satisfied: universe in /Users/453543/anaconda3/lib/python3.11/site-packages (0.21.3)\n",
      "Requirement already satisfied: autobahn>=0.16.0 in /Users/453543/anaconda3/lib/python3.11/site-packages (from universe) (23.6.2)\n",
      "Requirement already satisfied: docker-py==1.10.3 in /Users/453543/anaconda3/lib/python3.11/site-packages (from universe) (1.10.3)\n",
      "Requirement already satisfied: docker-pycreds==0.2.1 in /Users/453543/anaconda3/lib/python3.11/site-packages (from universe) (0.2.1)\n",
      "Requirement already satisfied: fastzbarlight>=0.0.13 in /Users/453543/anaconda3/lib/python3.11/site-packages (from universe) (0.0.14)\n",
      "Requirement already satisfied: go-vncdriver>=0.4.8 in /Users/453543/go-vncdriver (from universe) (0.4.19)\n",
      "Requirement already satisfied: gym<0.8,>=0.7 in /Users/453543/anaconda3/lib/python3.11/site-packages (from universe) (0.7.4)\n",
      "Requirement already satisfied: Pillow>=3.3.0 in /Users/453543/anaconda3/lib/python3.11/site-packages (from universe) (9.4.0)\n",
      "Requirement already satisfied: PyYAML>=3.12 in /Users/453543/anaconda3/lib/python3.11/site-packages (from universe) (6.0)\n",
      "Requirement already satisfied: six>=1.10.0 in /Users/453543/anaconda3/lib/python3.11/site-packages (from universe) (1.16.0)\n",
      "Requirement already satisfied: twisted>=16.5.0 in /Users/453543/anaconda3/lib/python3.11/site-packages (from universe) (22.10.0)\n",
      "Requirement already satisfied: ujson>=1.35 in /Users/453543/anaconda3/lib/python3.11/site-packages (from universe) (5.4.0)\n",
      "Requirement already satisfied: requests<2.11,>=2.5.2 in /Users/453543/anaconda3/lib/python3.11/site-packages (from docker-py==1.10.3->universe) (2.10.0)\n",
      "Requirement already satisfied: websocket-client>=0.32.0 in /Users/453543/anaconda3/lib/python3.11/site-packages (from docker-py==1.10.3->universe) (0.58.0)\n",
      "Requirement already satisfied: txaio>=21.2.1 in /Users/453543/anaconda3/lib/python3.11/site-packages (from autobahn>=0.16.0->universe) (23.1.1)\n",
      "Requirement already satisfied: cryptography>=3.4.6 in /Users/453543/anaconda3/lib/python3.11/site-packages (from autobahn>=0.16.0->universe) (41.0.3)\n",
      "Requirement already satisfied: hyperlink>=21.0.0 in /Users/453543/anaconda3/lib/python3.11/site-packages (from autobahn>=0.16.0->universe) (21.0.0)\n",
      "Requirement already satisfied: setuptools in /Users/453543/anaconda3/lib/python3.11/site-packages (from autobahn>=0.16.0->universe) (68.0.0)\n",
      "Requirement already satisfied: numpy in /Users/453543/anaconda3/lib/python3.11/site-packages (from go-vncdriver>=0.4.8->universe) (1.24.3)\n",
      "Requirement already satisfied: pyglet>=1.2.0 in /Users/453543/anaconda3/lib/python3.11/site-packages (from gym<0.8,>=0.7->universe) (2.0.10)\n",
      "Requirement already satisfied: zope.interface>=4.4.2 in /Users/453543/anaconda3/lib/python3.11/site-packages (from twisted>=16.5.0->universe) (5.4.0)\n",
      "Requirement already satisfied: constantly>=15.1 in /Users/453543/anaconda3/lib/python3.11/site-packages (from twisted>=16.5.0->universe) (15.1.0)\n",
      "Requirement already satisfied: incremental>=21.3.0 in /Users/453543/anaconda3/lib/python3.11/site-packages (from twisted>=16.5.0->universe) (21.3.0)\n",
      "Requirement already satisfied: Automat>=0.8.0 in /Users/453543/anaconda3/lib/python3.11/site-packages (from twisted>=16.5.0->universe) (20.2.0)\n",
      "Requirement already satisfied: attrs>=19.2.0 in /Users/453543/anaconda3/lib/python3.11/site-packages (from twisted>=16.5.0->universe) (22.1.0)\n",
      "Requirement already satisfied: typing-extensions>=3.6.5 in /Users/453543/anaconda3/lib/python3.11/site-packages (from twisted>=16.5.0->universe) (4.7.1)\n",
      "Requirement already satisfied: cffi>=1.12 in /Users/453543/anaconda3/lib/python3.11/site-packages (from cryptography>=3.4.6->autobahn>=0.16.0->universe) (1.15.1)\n",
      "Requirement already satisfied: idna>=2.5 in /Users/453543/anaconda3/lib/python3.11/site-packages (from hyperlink>=21.0.0->autobahn>=0.16.0->universe) (3.4)\n",
      "Requirement already satisfied: pycparser in /Users/453543/anaconda3/lib/python3.11/site-packages (from cffi>=1.12->cryptography>=3.4.6->autobahn>=0.16.0->universe) (2.21)\n",
      "Note: you may need to restart the kernel to use updated packages.\n"
     ]
    }
   ],
   "source": [
    "pip install universe"
   ]
  },
  {
   "cell_type": "code",
   "execution_count": 7,
   "metadata": {},
   "outputs": [
    {
     "name": "stdout",
     "output_type": "stream",
     "text": [
      "\u001b[31mERROR: Could not find a version that satisfies the requirement random (from versions: none)\u001b[0m\u001b[31m\n",
      "\u001b[0m\u001b[31mERROR: No matching distribution found for random\u001b[0m\u001b[31m\n",
      "\u001b[0mNote: you may need to restart the kernel to use updated packages.\n"
     ]
    }
   ],
   "source": []
  },
  {
   "cell_type": "markdown",
   "metadata": {},
   "source": [
    "First, we import necessary libraries,"
   ]
  },
  {
   "cell_type": "code",
   "execution_count": 1,
   "metadata": {
    "collapsed": true
   },
   "outputs": [
    {
     "ename": "ModuleNotFoundError",
     "evalue": "No module named 'gym.benchmarks'",
     "output_type": "error",
     "traceback": [
      "\u001b[0;31m---------------------------------------------------------------------------\u001b[0m",
      "\u001b[0;31mModuleNotFoundError\u001b[0m                       Traceback (most recent call last)",
      "Cell \u001b[0;32mIn[1], line 2\u001b[0m\n\u001b[1;32m      1\u001b[0m \u001b[38;5;28;01mimport\u001b[39;00m \u001b[38;5;21;01mgymnasium\u001b[39;00m \u001b[38;5;28;01mas\u001b[39;00m \u001b[38;5;21;01mgym\u001b[39;00m\n\u001b[0;32m----> 2\u001b[0m \u001b[38;5;28;01mimport\u001b[39;00m \u001b[38;5;21;01muniverse\u001b[39;00m\n\u001b[1;32m      3\u001b[0m \u001b[38;5;28;01mimport\u001b[39;00m \u001b[38;5;21;01mrandom\u001b[39;00m\n",
      "File \u001b[0;32m~/universe/universe/__init__.py:20\u001b[0m\n\u001b[1;32m     12\u001b[0m warnings\u001b[38;5;241m.\u001b[39mfilterwarnings(\n\u001b[1;32m     13\u001b[0m     \u001b[38;5;124m'\u001b[39m\u001b[38;5;124mignore\u001b[39m\u001b[38;5;124m'\u001b[39m,\n\u001b[1;32m     14\u001b[0m     message\u001b[38;5;241m=\u001b[39m\u001b[38;5;124m'\u001b[39m\u001b[38;5;124mYou do not have a working installation of the service_identity\u001b[39m\u001b[38;5;124m'\u001b[39m\n\u001b[1;32m     15\u001b[0m )\n\u001b[1;32m     18\u001b[0m \u001b[38;5;28;01mfrom\u001b[39;00m \u001b[38;5;21;01mgym\u001b[39;00m\u001b[38;5;21;01m.\u001b[39;00m\u001b[38;5;21;01menvs\u001b[39;00m\u001b[38;5;21;01m.\u001b[39;00m\u001b[38;5;21;01mregistration\u001b[39;00m \u001b[38;5;28;01mimport\u001b[39;00m register\n\u001b[0;32m---> 20\u001b[0m \u001b[38;5;28;01mimport\u001b[39;00m \u001b[38;5;21;01muniverse\u001b[39;00m\u001b[38;5;21;01m.\u001b[39;00m\u001b[38;5;21;01mscoreboard\u001b[39;00m\n\u001b[1;32m     21\u001b[0m \u001b[38;5;28;01mimport\u001b[39;00m \u001b[38;5;21;01muniverse\u001b[39;00m\u001b[38;5;21;01m.\u001b[39;00m\u001b[38;5;21;01mconfiguration\u001b[39;00m\n\u001b[1;32m     22\u001b[0m \u001b[38;5;28;01mfrom\u001b[39;00m \u001b[38;5;21;01muniverse\u001b[39;00m \u001b[38;5;28;01mimport\u001b[39;00m error, envs\n",
      "File \u001b[0;32m~/universe/universe/scoreboard/__init__.py:1\u001b[0m\n\u001b[0;32m----> 1\u001b[0m \u001b[38;5;28;01mfrom\u001b[39;00m \u001b[38;5;21;01mgym\u001b[39;00m\u001b[38;5;21;01m.\u001b[39;00m\u001b[38;5;21;01mbenchmarks\u001b[39;00m \u001b[38;5;28;01mimport\u001b[39;00m scoring\n\u001b[1;32m      2\u001b[0m \u001b[38;5;28;01mfrom\u001b[39;00m \u001b[38;5;21;01mgym\u001b[39;00m\u001b[38;5;21;01m.\u001b[39;00m\u001b[38;5;21;01mbenchmarks\u001b[39;00m \u001b[38;5;28;01mimport\u001b[39;00m register_benchmark\n\u001b[1;32m      4\u001b[0m register_benchmark(\n\u001b[1;32m      5\u001b[0m     \u001b[38;5;28mid\u001b[39m\u001b[38;5;241m=\u001b[39m\u001b[38;5;124m'\u001b[39m\u001b[38;5;124mAtari7VNC-v0\u001b[39m\u001b[38;5;124m'\u001b[39m,\n\u001b[1;32m      6\u001b[0m     scorer\u001b[38;5;241m=\u001b[39mscoring\u001b[38;5;241m.\u001b[39mTotalReward(),\n\u001b[0;32m   (...)\u001b[0m\n\u001b[1;32m     44\u001b[0m         }\n\u001b[1;32m     45\u001b[0m     ])\n",
      "\u001b[0;31mModuleNotFoundError\u001b[0m: No module named 'gym.benchmarks'"
     ]
    }
   ],
   "source": [
    "import gymnasium as gym\n",
    "import universe\n",
    "import random"
   ]
  },
  {
   "cell_type": "markdown",
   "metadata": {},
   "source": [
    "Then we simulate our car racing environment by make function."
   ]
  },
  {
   "cell_type": "code",
   "execution_count": 10,
   "metadata": {
    "collapsed": true
   },
   "outputs": [
    {
     "ename": "NameNotFound",
     "evalue": "Environment `flashgames.NeonRace` doesn't exist.",
     "output_type": "error",
     "traceback": [
      "\u001b[0;31m---------------------------------------------------------------------------\u001b[0m",
      "\u001b[0;31mNameNotFound\u001b[0m                              Traceback (most recent call last)",
      "Cell \u001b[0;32mIn[10], line 1\u001b[0m\n\u001b[0;32m----> 1\u001b[0m env \u001b[38;5;241m=\u001b[39m gym\u001b[38;5;241m.\u001b[39mmake(\u001b[38;5;124m'\u001b[39m\u001b[38;5;124mflashgames.NeonRace-v1\u001b[39m\u001b[38;5;124m'\u001b[39m)\n",
      "File \u001b[0;32m~/anaconda3/lib/python3.11/site-packages/gymnasium/envs/registration.py:741\u001b[0m, in \u001b[0;36mmake\u001b[0;34m(id, max_episode_steps, autoreset, apply_api_compatibility, disable_env_checker, **kwargs)\u001b[0m\n\u001b[1;32m    738\u001b[0m     \u001b[38;5;28;01massert\u001b[39;00m \u001b[38;5;28misinstance\u001b[39m(\u001b[38;5;28mid\u001b[39m, \u001b[38;5;28mstr\u001b[39m)\n\u001b[1;32m    740\u001b[0m     \u001b[38;5;66;03m# The environment name can include an unloaded module in \"module:env_name\" style\u001b[39;00m\n\u001b[0;32m--> 741\u001b[0m     env_spec \u001b[38;5;241m=\u001b[39m _find_spec(\u001b[38;5;28mid\u001b[39m)\n\u001b[1;32m    743\u001b[0m \u001b[38;5;28;01massert\u001b[39;00m \u001b[38;5;28misinstance\u001b[39m(env_spec, EnvSpec)\n\u001b[1;32m    745\u001b[0m \u001b[38;5;66;03m# Update the env spec kwargs with the `make` kwargs\u001b[39;00m\n",
      "File \u001b[0;32m~/anaconda3/lib/python3.11/site-packages/gymnasium/envs/registration.py:527\u001b[0m, in \u001b[0;36m_find_spec\u001b[0;34m(env_id)\u001b[0m\n\u001b[1;32m    521\u001b[0m     logger\u001b[38;5;241m.\u001b[39mwarn(\n\u001b[1;32m    522\u001b[0m         \u001b[38;5;124mf\u001b[39m\u001b[38;5;124m\"\u001b[39m\u001b[38;5;124mUsing the latest versioned environment `\u001b[39m\u001b[38;5;132;01m{\u001b[39;00mnew_env_id\u001b[38;5;132;01m}\u001b[39;00m\u001b[38;5;124m` \u001b[39m\u001b[38;5;124m\"\u001b[39m\n\u001b[1;32m    523\u001b[0m         \u001b[38;5;124mf\u001b[39m\u001b[38;5;124m\"\u001b[39m\u001b[38;5;124minstead of the unversioned environment `\u001b[39m\u001b[38;5;132;01m{\u001b[39;00menv_name\u001b[38;5;132;01m}\u001b[39;00m\u001b[38;5;124m`.\u001b[39m\u001b[38;5;124m\"\u001b[39m\n\u001b[1;32m    524\u001b[0m     )\n\u001b[1;32m    526\u001b[0m \u001b[38;5;28;01mif\u001b[39;00m env_spec \u001b[38;5;129;01mis\u001b[39;00m \u001b[38;5;28;01mNone\u001b[39;00m:\n\u001b[0;32m--> 527\u001b[0m     _check_version_exists(ns, name, version)\n\u001b[1;32m    528\u001b[0m     \u001b[38;5;28;01mraise\u001b[39;00m error\u001b[38;5;241m.\u001b[39mError(\n\u001b[1;32m    529\u001b[0m         \u001b[38;5;124mf\u001b[39m\u001b[38;5;124m\"\u001b[39m\u001b[38;5;124mNo registered env with id: \u001b[39m\u001b[38;5;132;01m{\u001b[39;00menv_name\u001b[38;5;132;01m}\u001b[39;00m\u001b[38;5;124m. Did you register it, or import the package that registers it? Use `gymnasium.pprint_registry()` to see all of the registered environments.\u001b[39m\u001b[38;5;124m\"\u001b[39m\n\u001b[1;32m    530\u001b[0m     )\n\u001b[1;32m    532\u001b[0m \u001b[38;5;28;01mreturn\u001b[39;00m env_spec\n",
      "File \u001b[0;32m~/anaconda3/lib/python3.11/site-packages/gymnasium/envs/registration.py:393\u001b[0m, in \u001b[0;36m_check_version_exists\u001b[0;34m(ns, name, version)\u001b[0m\n\u001b[1;32m    390\u001b[0m \u001b[38;5;28;01mif\u001b[39;00m get_env_id(ns, name, version) \u001b[38;5;129;01min\u001b[39;00m registry:\n\u001b[1;32m    391\u001b[0m     \u001b[38;5;28;01mreturn\u001b[39;00m\n\u001b[0;32m--> 393\u001b[0m _check_name_exists(ns, name)\n\u001b[1;32m    394\u001b[0m \u001b[38;5;28;01mif\u001b[39;00m version \u001b[38;5;129;01mis\u001b[39;00m \u001b[38;5;28;01mNone\u001b[39;00m:\n\u001b[1;32m    395\u001b[0m     \u001b[38;5;28;01mreturn\u001b[39;00m\n",
      "File \u001b[0;32m~/anaconda3/lib/python3.11/site-packages/gymnasium/envs/registration.py:370\u001b[0m, in \u001b[0;36m_check_name_exists\u001b[0;34m(ns, name)\u001b[0m\n\u001b[1;32m    367\u001b[0m namespace_msg \u001b[38;5;241m=\u001b[39m \u001b[38;5;124mf\u001b[39m\u001b[38;5;124m\"\u001b[39m\u001b[38;5;124m in namespace \u001b[39m\u001b[38;5;132;01m{\u001b[39;00mns\u001b[38;5;132;01m}\u001b[39;00m\u001b[38;5;124m\"\u001b[39m \u001b[38;5;28;01mif\u001b[39;00m ns \u001b[38;5;28;01melse\u001b[39;00m \u001b[38;5;124m\"\u001b[39m\u001b[38;5;124m\"\u001b[39m\n\u001b[1;32m    368\u001b[0m suggestion_msg \u001b[38;5;241m=\u001b[39m \u001b[38;5;124mf\u001b[39m\u001b[38;5;124m\"\u001b[39m\u001b[38;5;124m Did you mean: `\u001b[39m\u001b[38;5;132;01m{\u001b[39;00msuggestion[\u001b[38;5;241m0\u001b[39m]\u001b[38;5;132;01m}\u001b[39;00m\u001b[38;5;124m`?\u001b[39m\u001b[38;5;124m\"\u001b[39m \u001b[38;5;28;01mif\u001b[39;00m suggestion \u001b[38;5;28;01melse\u001b[39;00m \u001b[38;5;124m\"\u001b[39m\u001b[38;5;124m\"\u001b[39m\n\u001b[0;32m--> 370\u001b[0m \u001b[38;5;28;01mraise\u001b[39;00m error\u001b[38;5;241m.\u001b[39mNameNotFound(\n\u001b[1;32m    371\u001b[0m     \u001b[38;5;124mf\u001b[39m\u001b[38;5;124m\"\u001b[39m\u001b[38;5;124mEnvironment `\u001b[39m\u001b[38;5;132;01m{\u001b[39;00mname\u001b[38;5;132;01m}\u001b[39;00m\u001b[38;5;124m` doesn\u001b[39m\u001b[38;5;124m'\u001b[39m\u001b[38;5;124mt exist\u001b[39m\u001b[38;5;132;01m{\u001b[39;00mnamespace_msg\u001b[38;5;132;01m}\u001b[39;00m\u001b[38;5;124m.\u001b[39m\u001b[38;5;132;01m{\u001b[39;00msuggestion_msg\u001b[38;5;132;01m}\u001b[39;00m\u001b[38;5;124m\"\u001b[39m\n\u001b[1;32m    372\u001b[0m )\n",
      "\u001b[0;31mNameNotFound\u001b[0m: Environment `flashgames.NeonRace` doesn't exist."
     ]
    }
   ],
   "source": [
    "env = gym.make('flashgames.NeonRace-v1')"
   ]
  },
  {
   "cell_type": "code",
   "execution_count": 9,
   "metadata": {
    "collapsed": true
   },
   "outputs": [
    {
     "ename": "NameError",
     "evalue": "name 'env' is not defined",
     "output_type": "error",
     "traceback": [
      "\u001b[0;31m---------------------------------------------------------------------------\u001b[0m",
      "\u001b[0;31mNameError\u001b[0m                                 Traceback (most recent call last)",
      "Cell \u001b[0;32mIn[9], line 1\u001b[0m\n\u001b[0;32m----> 1\u001b[0m env\u001b[38;5;241m.\u001b[39mconfigure(remotes\u001b[38;5;241m=\u001b[39m\u001b[38;5;241m1\u001b[39m)\n",
      "\u001b[0;31mNameError\u001b[0m: name 'env' is not defined"
     ]
    }
   ],
   "source": [
    "env.configure(remotes=1) "
   ]
  },
  {
   "cell_type": "markdown",
   "metadata": {},
   "source": [
    "And let us create variables for moving the car,"
   ]
  },
  {
   "cell_type": "code",
   "execution_count": null,
   "metadata": {
    "collapsed": true
   },
   "outputs": [],
   "source": [
    "# Move left\n",
    "left = [('KeyEvent', 'ArrowUp', True), ('KeyEvent', 'ArrowLeft', True),\n",
    "         ('KeyEvent', 'ArrowRight', False)]\n",
    "\n",
    "# Move right\n",
    "right = [('KeyEvent', 'ArrowUp', True), ('KeyEvent', 'ArrowLeft', False),\n",
    "         ('KeyEvent', 'ArrowRight', True)]\n",
    "\n",
    "# Move forward\n",
    "\n",
    "forward = [('KeyEvent', 'ArrowUp', True), ('KeyEvent', 'ArrowRight', False),\n",
    "            ('KeyEvent', 'ArrowLeft', False), ('KeyEvent', 'n', True)]"
   ]
  },
  {
   "cell_type": "markdown",
   "metadata": {},
   "source": [
    "Followed by, we will initialize some other variables"
   ]
  },
  {
   "cell_type": "code",
   "execution_count": null,
   "metadata": {
    "collapsed": true
   },
   "outputs": [],
   "source": [
    "# We use turn variable for deciding whether to turn or not\n",
    "turn = 0\n",
    "\n",
    "# We store all the rewards in rewards list\n",
    "rewards = []\n",
    "\n",
    "# we will use buffer as some kind of threshold\n",
    "buffer_size = 100\n",
    "\n",
    "# We set our initial action has forward i.e our car moves just forward without making any turns\n",
    "action = forward"
   ]
  },
  {
   "cell_type": "markdown",
   "metadata": {
    "collapsed": true
   },
   "source": [
    "Now, let us begin our game agent to play in an infinite loop which continuously performs an action based on interaction with the environment."
   ]
  },
  {
   "cell_type": "code",
   "execution_count": null,
   "metadata": {
    "collapsed": true
   },
   "outputs": [],
   "source": [
    "while True:\n",
    "    turn -= 1\n",
    "    \n",
    "    # Let us say initially we take no turn and move forward.\n",
    "    # First, We will check the value of turn, if it is less than 0\n",
    "    # then there is no necessity for turning and we just move forward\n",
    "    \n",
    "    if turn <= 0:\n",
    "        action = forward\n",
    "        turn = 0\n",
    "    \n",
    "    action_n = [action for ob in observation_n]\n",
    "    \n",
    "    # Then we use env.step() to perform an action (moving forward for now) one-time step\n",
    "    \n",
    "    observation_n, reward_n, done_n, info = env.step(action_n)\n",
    "    \n",
    "    # store the rewards in the rewards list\n",
    "    rewards += [reward_n[0]]\n",
    "     \n",
    "    # We will generate some random number and if it is less than 0.5 then we will take right, else\n",
    "    # we will take left and we will store all the rewards obtained by performing each action and\n",
    "    # based on our rewards we will learn which direction is the best over several timesteps. \n",
    "    \n",
    "    if len(rewards) >= buffer_size:\n",
    "        mean = sum(rewards)/len(rewards)\n",
    "        \n",
    "        if mean == 0:\n",
    "            turn = 20\n",
    "            if random.random() < 0.5:\n",
    "                 action = right\n",
    "            else:\n",
    "                action = left\n",
    "        rewards = []\n",
    "        \n",
    "    env.render()"
   ]
  }
 ],
 "metadata": {
  "kernelspec": {
   "display_name": "Python 3 (ipykernel)",
   "language": "python",
   "name": "python3"
  },
  "language_info": {
   "codemirror_mode": {
    "name": "ipython",
    "version": 3
   },
   "file_extension": ".py",
   "mimetype": "text/x-python",
   "name": "python",
   "nbconvert_exporter": "python",
   "pygments_lexer": "ipython3",
   "version": "3.11.5"
  }
 },
 "nbformat": 4,
 "nbformat_minor": 2
}
