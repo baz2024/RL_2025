{
 "cells": [
  {
   "cell_type": "code",
   "execution_count": null,
   "id": "38358239",
   "metadata": {},
   "outputs": [],
   "source": [
    "import gymnasium as gym\n",
    "import matplotlib.pyplot as plt\n",
    "from IPython.display import display, clear_output\n",
    "import time\n",
    "\n",
    "# Create the environment with RGB rendering\n",
    "env = gym.make(\"LunarLander-v3\", render_mode=\"rgb_array\")\n",
    "obs, info = env.reset()\n",
    "\n",
    "total_reward = 0\n",
    "\n",
    "for step in range(1000):\n",
    "    img = env.render()\n",
    "\n",
    "    # Display the rendered image\n",
    "    plt.imshow(img)\n",
    "    plt.axis('off')\n",
    "    clear_output(wait=True)\n",
    "    display(plt.gcf())\n",
    "    time.sleep(0.02)\n",
    "\n",
    "    action = env.action_space.sample()  # Random action\n",
    "    obs, reward, terminated, truncated, info = env.step(action)\n",
    "    total_reward += reward\n",
    "    done = terminated or truncated\n",
    "    if done:\n",
    "        break\n",
    "\n",
    "env.close()\n",
    "print(f\"Total reward: {total_reward}\")"
   ]
  }
 ],
 "metadata": {
  "language_info": {
   "name": "python"
  }
 },
 "nbformat": 4,
 "nbformat_minor": 5
}
