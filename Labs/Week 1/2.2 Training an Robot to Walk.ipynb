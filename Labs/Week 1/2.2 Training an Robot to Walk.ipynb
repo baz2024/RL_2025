{
 "cells": [
  {
   "cell_type": "markdown",
   "metadata": {},
   "source": [
    "# Training an agent to Walk"
   ]
  },
  {
   "cell_type": "markdown",
   "metadata": {},
   "source": [
    "Now let us learn how to train a robot to walk using Gym along with some fundamentals.\n",
    "The strategy is that reward X points will be given when the robot moves forward and if the\n",
    "robot fails to move then Y points will be reduced. So the robot will learn to walk in the\n",
    "event of maximizing the reward.\n",
    "\n",
    "First, we will import the library, then we will create a simulation instance by make\n",
    "function. \n",
    "\n",
    "\n",
    "Open AI Gym provides an environment called BipedalWalker-v2 for training\n",
    "robotic agents in simple terrain. "
   ]
  },
  {
   "cell_type": "code",
   "execution_count": 1,
   "metadata": {
    "collapsed": true
   },
   "outputs": [],
   "source": [
    "import gymnasium as gym\n",
    "env = gym.make('BipedalWalker-v3', render_mode='human')"
   ]
  },
  {
   "cell_type": "markdown",
   "metadata": {},
   "source": [
    "Then for each episode (Agent-Environment interaction between initial and final state), we\n",
    "will initialize the environment using reset method."
   ]
  },
  {
   "cell_type": "code",
   "execution_count": null,
   "metadata": {
    "collapsed": true
   },
   "outputs": [
    {
     "ename": "NameError",
     "evalue": "name 'truncatedr' is not defined",
     "output_type": "error",
     "traceback": [
      "\u001b[31m---------------------------------------------------------------------------\u001b[39m",
      "\u001b[31mNameError\u001b[39m                                 Traceback (most recent call last)",
      "\u001b[36mCell\u001b[39m\u001b[36m \u001b[39m\u001b[32mIn[2]\u001b[39m\u001b[32m, line 16\u001b[39m\n\u001b[32m     13\u001b[39m       obs, reward, terminated, truncated , info  = env.step(action)\n\u001b[32m     15\u001b[39m \u001b[38;5;66;03m# When done is true, we print the time steps taken for the episode and break the current episode.\u001b[39;00m\n\u001b[32m---> \u001b[39m\u001b[32m16\u001b[39m  \u001b[38;5;28;01mif\u001b[39;00m terminated \u001b[38;5;129;01mor\u001b[39;00m \u001b[43mtruncatedr\u001b[49m:\n\u001b[32m     17\u001b[39m      \u001b[38;5;28mprint\u001b[39m(\u001b[33m\"\u001b[39m\u001b[38;5;132;01m{}\u001b[39;00m\u001b[33m timesteps taken for the Episode\u001b[39m\u001b[33m\"\u001b[39m.format(i+\u001b[32m1\u001b[39m))\n\u001b[32m     18\u001b[39m      \u001b[38;5;28;01mbreak\u001b[39;00m\n",
      "\u001b[31mNameError\u001b[39m: name 'truncatedr' is not defined"
     ]
    },
    {
     "ename": "",
     "evalue": "",
     "output_type": "error",
     "traceback": [
      "\u001b[1;31mThe Kernel crashed while executing code in the current cell or a previous cell. \n",
      "\u001b[1;31mPlease review the code in the cell(s) to identify a possible cause of the failure. \n",
      "\u001b[1;31mClick <a href='https://aka.ms/vscodeJupyterKernelCrash'>here</a> for more info. \n",
      "\u001b[1;31mView Jupyter <a href='command:jupyter.viewOutput'>log</a> for further details."
     ]
    }
   ],
   "source": [
    "for episode in range(100):\n",
    "    observation = env.reset()\n",
    "    \n",
    "    # Render the environment on each step \n",
    "    for i in range(10000):\n",
    "         env.render()\n",
    "            \n",
    "        # we choose action by sampling random action from environment's action space. Every environment has\n",
    "        # some action space which contains the all possible valid actions and observations,\n",
    "         action = env.action_space.sample()\n",
    "    \n",
    "        # Then for each step, we will record the observation, reward, done, info\n",
    "         obs, reward, terminated, truncated , info  = env.step(action)\n",
    "    \n",
    "   # When done is true, we print the time steps taken for the episode and break the current episode.\n",
    "    if terminated or truncatedr:\n",
    "        print(\"{} timesteps taken for the Episode\".format(i+1))\n",
    "        break"
   ]
  },
  {
   "cell_type": "markdown",
   "metadata": {},
   "source": [
    "The agent will learn by trail and error and over a period of time it starts selecting actions which gives the\n",
    "maximum rewards."
   ]
  }
 ],
 "metadata": {
  "kernelspec": {
   "display_name": "rl-env",
   "language": "python",
   "name": "python3"
  },
  "language_info": {
   "codemirror_mode": {
    "name": "ipython",
    "version": 3
   },
   "file_extension": ".py",
   "mimetype": "text/x-python",
   "name": "python",
   "nbconvert_exporter": "python",
   "pygments_lexer": "ipython3",
   "version": "3.12.4"
  }
 },
 "nbformat": 4,
 "nbformat_minor": 2
}
